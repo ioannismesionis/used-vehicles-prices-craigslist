{
 "cells": [
  {
   "cell_type": "code",
   "execution_count": 8,
   "metadata": {
    "_cell_guid": "b1076dfc-b9ad-4769-8c92-a6c4dae69d19",
    "_uuid": "8f2839f25d086af736a60e9eeb907d3b93b6e0e5"
   },
   "outputs": [],
   "source": [
    "# This Python 3 environment comes with many helpful analytics libraries installed\n",
    "# It is defined by the kaggle/python docker image: https://github.com/kaggle/docker-python\n",
    "# For example, here's several helpful packages to load in \n",
    "\n",
    "import numpy as np # linear algebra\n",
    "import pandas as pd # data processing, CSV file I/O (e.g. pd.read_csv)\n",
    "\n",
    "# Input data files are available in the \"../input/\" directory.\n",
    "# For example, running this (by clicking run or pressing Shift+Enter) will list all files under the input directory\n",
    "\n",
    "import os"
   ]
  },
  {
   "cell_type": "markdown",
   "metadata": {},
   "source": [
    "The purpose of the notebook is to create a machine learning model that will be able to predict as accuracte as possible whether a used car is overprices or underpriced."
   ]
  },
  {
   "cell_type": "code",
   "execution_count": 9,
   "metadata": {},
   "outputs": [
    {
     "data": {
      "text/plain": [
       "'/Users/atawuamessi/Desktop/Projects/used-vehicles-prices-craigslist'"
      ]
     },
     "execution_count": 9,
     "metadata": {},
     "output_type": "execute_result"
    }
   ],
   "source": [
    "import os\n",
    "os.getcwd()"
   ]
  },
  {
   "cell_type": "code",
   "execution_count": 10,
   "metadata": {
    "_cell_guid": "79c7e3d0-c299-4dcb-8224-4455121ee9b0",
    "_uuid": "d629ff2d2480ee46fbb7e2d37f6b5fab8052498a"
   },
   "outputs": [],
   "source": [
    "# Read the data in\n",
    "df = pd.read_csv(\"vehicles.csv\")"
   ]
  },
  {
   "cell_type": "markdown",
   "metadata": {},
   "source": [
    "Before we start doing any modelling, it is vital that we explore our data(i.e. dimensions, columns, missing values etc.)"
   ]
  },
  {
   "cell_type": "code",
   "execution_count": 11,
   "metadata": {},
   "outputs": [
    {
     "name": "stdout",
     "output_type": "stream",
     "text": [
      "The data has 539759 rows and 25 columns\n"
     ]
    }
   ],
   "source": [
    "print(\"The data has {rows} rows and {columns} columns\".format(rows = df.shape[0], columns = df.shape[1]))"
   ]
  },
  {
   "cell_type": "code",
   "execution_count": null,
   "metadata": {
    "_kg_hide-output": true
   },
   "outputs": [],
   "source": [
    "def columns_description(df):\n",
    "    for col in df.columns:\n",
    "        print(\"Column name:{}, \\ndtype:{} \\n\".format(col, df[col].dtype))\n",
    "        \n",
    "columns_description(df)"
   ]
  },
  {
   "cell_type": "code",
   "execution_count": null,
   "metadata": {},
   "outputs": [],
   "source": [
    "df.describe()"
   ]
  },
  {
   "cell_type": "code",
   "execution_count": null,
   "metadata": {},
   "outputs": [],
   "source": [
    "print(\"There are {} duplicates rows\".format(df.duplicated().sum()))"
   ]
  },
  {
   "cell_type": "markdown",
   "metadata": {},
   "source": [
    "# Missing values exploration"
   ]
  },
  {
   "cell_type": "code",
   "execution_count": null,
   "metadata": {},
   "outputs": [],
   "source": [
    "cols_na = [col for col in df.columns if df[col].isnull().sum() > 0]\n",
    "cols_na"
   ]
  },
  {
   "cell_type": "code",
   "execution_count": null,
   "metadata": {},
   "outputs": [],
   "source": [
    "df_na = pd.Series((df[cols_na].isnull().mean()) * 100).sort_values(ascending = False)\n",
    "df_na"
   ]
  },
  {
   "cell_type": "code",
   "execution_count": null,
   "metadata": {},
   "outputs": [],
   "source": [
    "cols_005 = df_na[df_na < 5]\n",
    "cols_005.index"
   ]
  },
  {
   "cell_type": "code",
   "execution_count": null,
   "metadata": {},
   "outputs": [],
   "source": [
    "df_copy = df.copy()\n",
    "# image_url\n",
    "df_copy.drop('image_url', axis = 1, inplace = True)"
   ]
  },
  {
   "cell_type": "code",
   "execution_count": null,
   "metadata": {},
   "outputs": [],
   "source": [
    "# description will be used to count how many words are present and then broker down into categories\n",
    "# so if na --> 0\n",
    "print(\"There were {} na values\".format(df_copy['description'].isna().sum()))\n",
    "df_copy['description'].fillna(0, inplace = True)\n",
    "print(\"There are {} na values now\".format(df_copy['description'].isna().sum()))"
   ]
  },
  {
   "cell_type": "code",
   "execution_count": null,
   "metadata": {},
   "outputs": [],
   "source": [
    "# year\n",
    "df_copy['year'].describe()"
   ]
  },
  {
   "cell_type": "code",
   "execution_count": null,
   "metadata": {},
   "outputs": [],
   "source": [
    "# original variable distribution\n",
    "df_copy['year'].plot(kind='kde', xlim = (1))"
   ]
  },
  {
   "cell_type": "markdown",
   "metadata": {},
   "source": [
    "For these that have less than 5% missing values"
   ]
  },
  {
   "cell_type": "code",
   "execution_count": null,
   "metadata": {},
   "outputs": [],
   "source": [
    "cols_005 = df_na[df_na < 5]\n",
    "cols_005.index"
   ]
  },
  {
   "cell_type": "code",
   "execution_count": null,
   "metadata": {},
   "outputs": [],
   "source": []
  },
  {
   "cell_type": "code",
   "execution_count": null,
   "metadata": {},
   "outputs": [],
   "source": []
  },
  {
   "cell_type": "markdown",
   "metadata": {},
   "source": [
    "To decide how to proceed with the variables, we first need to understand what they mean. \n",
    "\n",
    "This is the description as provided in the Kaggle competition website:\n",
    "\n",
    "* identity: ID <br>\n",
    "* urllisting: URL<br>\n",
    "* regioncraigslist: region<br>\n",
    "* region_urlregion: URL<br>\n",
    "* priceentry: price<br>\n",
    "* yearentry: year<br>\n",
    "* manufacturer: manufacturer of vehicle<br>\n",
    "* model: model of vehicle<br>\n",
    "* condition: condition of vehicle<br>\n",
    "* cylinders: number of cylinders<br>\n",
    "* fuel: fuel type<br>\n",
    "* odometer: miles traveled by vehicle<br>\n",
    "* title_status: title status of vehicle<br>\n",
    "* transmission: transmission of vehicle<br>\n",
    "* vin: vehicle identification number<br>\n",
    "* drive: type of drive<br>\n",
    "* size: size of vehicle<br>\n",
    "* type: generic type of vehicle<br>\n",
    "* paint_color: color of vehicle<br>\n",
    "* image_url: image URL<br>\n",
    "* description: listed description of vehicle<br>\n",
    "* county: useless column left in by mistake<br>\n",
    "* state: state of listing<br>\n",
    "* lat: latitude of listing<br>\n",
    "* long: longitude of listing<br>"
   ]
  },
  {
   "cell_type": "markdown",
   "metadata": {},
   "source": []
  },
  {
   "cell_type": "code",
   "execution_count": null,
   "metadata": {},
   "outputs": [],
   "source": [
    "df.drop('county', axis = 1, inplace = True)"
   ]
  },
  {
   "cell_type": "code",
   "execution_count": null,
   "metadata": {},
   "outputs": [],
   "source": [
    "df['model'].unique()"
   ]
  },
  {
   "cell_type": "code",
   "execution_count": null,
   "metadata": {},
   "outputs": [],
   "source": []
  }
 ],
 "metadata": {
  "kernelspec": {
   "display_name": "Python 3",
   "language": "python",
   "name": "python3"
  },
  "language_info": {
   "codemirror_mode": {
    "name": "ipython",
    "version": 3
   },
   "file_extension": ".py",
   "mimetype": "text/x-python",
   "name": "python",
   "nbconvert_exporter": "python",
   "pygments_lexer": "ipython3",
   "version": "3.7.6"
  }
 },
 "nbformat": 4,
 "nbformat_minor": 4
}
